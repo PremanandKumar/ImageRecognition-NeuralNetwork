{
 "cells": [
  {
   "cell_type": "code",
   "execution_count": 1,
   "metadata": {},
   "outputs": [
    {
     "name": "stderr",
     "output_type": "stream",
     "text": [
      "/usr/local/lib/python3.6/site-packages/h5py/__init__.py:36: FutureWarning: Conversion of the second argument of issubdtype from `float` to `np.floating` is deprecated. In future, it will be treated as `np.float64 == np.dtype(float).type`.\n",
      "  from ._conv import register_converters as _register_converters\n",
      "Using TensorFlow backend.\n",
      "/usr/local/lib/python3.6/site-packages/sklearn/cross_validation.py:41: DeprecationWarning: This module was deprecated in version 0.18 in favor of the model_selection module into which all the refactored classes and functions are moved. Also note that the interface of the new CV iterators are different from that of this module. This module will be removed in 0.20.\n",
      "  \"This module will be removed in 0.20.\", DeprecationWarning)\n",
      "/usr/local/lib/python3.6/site-packages/sklearn/grid_search.py:42: DeprecationWarning: This module was deprecated in version 0.18 in favor of the model_selection module into which all the refactored classes and functions are moved. This module will be removed in 0.20.\n",
      "  DeprecationWarning)\n"
     ]
    }
   ],
   "source": [
    "from utils_copy import load_mnist\n",
    "from mnist import MNIST\n",
    "#from classifier import svm_classifier\n",
    "import cv2\n",
    "import numpy as np\n",
    "import sklearn\n",
    "from sklearn.cluster import KMeans\n",
    "import scipy.cluster.vq as vq\n",
    "import numpy as np\n",
    "import pickle\n",
    "from sklearn import svm\n",
    "from sklearn.metrics import accuracy_score, confusion_matrix\n",
    "from tqdm import tqdm\n",
    "from classifier import svm_classifier\n",
    "from collections import Counter\n",
    "from matplotlib import pyplot as plt\n",
    "import itertools\n",
    "%matplotlib inline"
   ]
  },
  {
   "cell_type": "code",
   "execution_count": 2,
   "metadata": {},
   "outputs": [],
   "source": [
    "def plot_confusion_matrix(cm, classes,\n",
    "                          normalize=False,\n",
    "                          title='Confusion matrix',\n",
    "                          cmap=plt.cm.Blues):\n",
    "    \"\"\"\n",
    "    This function prints and plots the confusion matrix.\n",
    "    Normalization can be applied by setting `normalize=True`.\n",
    "    \"\"\"\n",
    "    if normalize:\n",
    "        cm = cm.astype('float') / cm.sum(axis=1)[:, np.newaxis]\n",
    "        print(\"Normalized confusion matrix\")\n",
    "    else:\n",
    "        print('Confusion matrix, without normalization')\n",
    "\n",
    "    print(cm)\n",
    "\n",
    "    plt.imshow(cm, interpolation='nearest', cmap=cmap)\n",
    "    plt.title(title)\n",
    "    plt.colorbar()\n",
    "    tick_marks = np.arange(len(classes))\n",
    "    plt.xticks(tick_marks, classes, rotation=45)\n",
    "    plt.yticks(tick_marks, classes)\n",
    "\n",
    "    fmt = '.2f' if normalize else 'd'\n",
    "    thresh = cm.max() / 2.\n",
    "    for i, j in itertools.product(range(cm.shape[0]), range(cm.shape[1])):\n",
    "        plt.text(j, i, format(cm[i, j], fmt),\n",
    "                 horizontalalignment=\"center\",\n",
    "                 color=\"white\" if cm[i, j] > thresh else \"black\")\n",
    "\n",
    "    plt.tight_layout()\n",
    "    plt.ylabel('True label')\n",
    "    plt.xlabel('Predicted label')\n"
   ]
  },
  {
   "cell_type": "code",
   "execution_count": 3,
   "metadata": {},
   "outputs": [],
   "source": [
    "def build_spatial_pyramid(image, descriptor, level):\n",
    "    \"\"\"\n",
    "    Rebuild the descriptors according to the level of pyramid\n",
    "    \"\"\"\n",
    "    assert 0 <= level <= 2, \"Level Error\"\n",
    "    step_size = 4\n",
    "    #from utils import DSIFT_STEP_SIZE as s\n",
    "    #assert s == step_size, \"step_size must equal to DSIFT_STEP_SIZE\\\n",
    "                            #in utils.extract_DenseSift_descriptors()\"\n",
    "    h = int(image.shape[0] / step_size)\n",
    "    w = int(image.shape[1] / step_size)\n",
    "    idx_crop = np.array(range(len(descriptor))).reshape(h,w)\n",
    "    size = idx_crop.itemsize\n",
    "    height, width = idx_crop.shape\n",
    "    bh, bw = 2**(3-level), 2**(3-level)\n",
    "    shape = (int(height/bh), int(width/bw), bh, bw)\n",
    "    strides = size * np.array([width*bh, bw, width, 1])\n",
    "    crops = np.lib.stride_tricks.as_strided(\n",
    "            idx_crop, shape=shape, strides=strides)\n",
    "    des_idxs = [col_block.flatten().tolist() for row_block in crops\n",
    "                for col_block in row_block]\n",
    "    pyramid = []\n",
    "    for idxs in des_idxs:\n",
    "        pyramid.append(np.asarray([descriptor[idx] for idx in idxs]))\n",
    "    return pyramid\n",
    "\n",
    "def spatial_pyramid_matching(image, descriptor, codebook, level):\n",
    "    pyramid = []\n",
    "    if level == 0:\n",
    "        pyramid += build_spatial_pyramid(image, descriptor, level=0)\n",
    "        code = [input_vector_encoder(crop, codebook) for crop in pyramid]\n",
    "        return np.asarray(code).flatten()\n",
    "    if level == 1:\n",
    "        pyramid += build_spatial_pyramid(image, descriptor, level=0)\n",
    "        pyramid += build_spatial_pyramid(image, descriptor, level=1)\n",
    "        code = [input_vector_encoder(crop, codebook) for crop in pyramid]\n",
    "        code_level_0 = 0.5 * np.asarray(code[0]).flatten()\n",
    "        code_level_1 = 0.5 * np.asarray(code[1:]).flatten()\n",
    "        return np.concatenate((code_level_0, code_level_1))\n",
    "    if level == 2:\n",
    "        pyramid += build_spatial_pyramid(image, descriptor, level=0)\n",
    "        pyramid += build_spatial_pyramid(image, descriptor, level=1)\n",
    "        pyramid += build_spatial_pyramid(image, descriptor, level=2)\n",
    "        code = [input_vector_encoder(crop, codebook) for crop in pyramid]\n",
    "        code_level_0 = 0.25 * np.asarray(code[0]).flatten()\n",
    "        code_level_1 = 0.25 * np.asarray(code[1:5]).flatten()\n",
    "        code_level_2 = 0.5 * np.asarray(code[5:]).flatten()\n",
    "        return np.concatenate((code_level_0, code_level_1, code_level_2))\n",
    "\n",
    "\n",
    "def extract_DenseSift_descriptors(img):\n",
    "\n",
    "    sift = cv2.xfeatures2d.SIFT_create()\n",
    "    disft_step_size = DSIFT_STEP_SIZE\n",
    "    keypoints = [cv2.KeyPoint(x, y, disft_step_size)\n",
    "            for y in range(0, img.shape[0], disft_step_size)\n",
    "                for x in range(0, img.shape[1], disft_step_size)]\n",
    "\n",
    "    keypoints, descriptors = sift.compute(img, keypoints)\n",
    "\n",
    "    #keypoints, descriptors = sift.detectAndCompute(gray, None)\n",
    "    return [keypoints, descriptors]\n",
    "\n",
    "def build_codebook(X, voc_size):\n",
    "    \"\"\"\n",
    "    Inupt a list of feature descriptors\n",
    "    voc_size is the \"K\" in K-means, k is also called vocabulary size\n",
    "    Return the codebook/dictionary\n",
    "    \"\"\"\n",
    "    features = np.vstack((descriptor for descriptor in X))\n",
    "    kmeans = KMeans(n_clusters=voc_size, n_jobs=-2)\n",
    "    kmeans.fit(features)\n",
    "    codebook = kmeans.cluster_centers_.squeeze()\n",
    "    return codebook\n",
    "\n",
    "def input_vector_encoder(feature, codebook):\n",
    "    \"\"\"\n",
    "    Input all the local feature of the image\n",
    "    Pooling (encoding) by codebook and return\n",
    "    \"\"\"\n",
    "    code, _ = vq.vq(feature, codebook)\n",
    "    word_hist, bin_edges = np.histogram(code, bins=range(codebook.shape[0] + 1), normed=True)\n",
    "    return word_hist"
   ]
  },
  {
   "cell_type": "code",
   "execution_count": 4,
   "metadata": {},
   "outputs": [
    {
     "name": "stdout",
     "output_type": "stream",
     "text": [
      "Counter({1: 6742, 7: 6265, 3: 6131, 2: 5958, 9: 5949, 0: 5923, 6: 5918, 8: 5851, 4: 5842, 5: 5421})\n",
      "Counter({1: 1135, 2: 1032, 7: 1028, 3: 1010, 9: 1009, 4: 982, 0: 980, 8: 974, 6: 958, 5: 892})\n"
     ]
    }
   ],
   "source": [
    "# choosing samples\n",
    "mndata = MNIST('./data')\n",
    "\n",
    "x_train, y_train  = mndata.load_training()\n",
    "x_test, y_test = mndata.load_testing()\n",
    "\n",
    "\n",
    "print(Counter(y_train))\n",
    "print(Counter(y_test))\n",
    "\n",
    "train_rand = np.random.randint(60000, size=10000)\n",
    "temp = []\n",
    "temp_y = []\n",
    "for num in train_rand:\n",
    "    temp.append(x_train[num])\n",
    "    temp_y.append(y_train[num])\n",
    "    \n",
    "x_train = temp\n",
    "y_train = temp_y\n",
    "\n",
    "test_rand = np.random.randint(10000, size=10000)\n",
    "temp = []\n",
    "temp_y = []\n",
    "for num in test_rand:\n",
    "    temp.append(x_test[num])\n",
    "    temp_y.append(y_test[num])\n",
    "\n",
    "x_test = temp\n",
    "y_test = temp_y "
   ]
  },
  {
   "cell_type": "code",
   "execution_count": 5,
   "metadata": {
    "scrolled": false
   },
   "outputs": [
    {
     "name": "stdout",
     "output_type": "stream",
     "text": [
      "Dense SIFT feature extraction\n",
      "Train/Test split: 10000/10000\n",
      "Codebook Size: 100\n",
      "Pyramid level: 2\n",
      "Building the codebook, it will take some time\n"
     ]
    }
   ],
   "source": [
    "VOC_SIZE = 100\n",
    "PYRAMID_LEVEL = 2\n",
    "\n",
    "DSIFT_STEP_SIZE = 4\n",
    "# DSIFT_STEP_SIZE is related to the function\n",
    "# extract_DenseSift_descriptors in utils.py\n",
    "# and build_spatial_pyramid in spm.py\n",
    "\n",
    "\n",
    "temp = []\n",
    "temp_y = []\n",
    "for i,image in enumerate(x_train):\n",
    "        image = x_train[i]\n",
    "        temp.append(np.array(image).reshape([28,28]).astype('uint8'))\n",
    "        temp_y.append(y_train[i])\n",
    "x_train = temp\n",
    "y_train = temp_y\n",
    "\n",
    "temp = []\n",
    "temp_y = []\n",
    "\n",
    "for i,image in enumerate(x_test):\n",
    "        image = x_test[i]\n",
    "        temp.append(np.array(image).reshape([28,28]).astype('uint8'))\n",
    "        temp_y.append(y_test[i])\n",
    "x_test = temp\n",
    "y_test = temp_y       \n",
    "#x_train, y_train = load_data(dataset='train')\n",
    "#x_test, y_test = load_data(dataset='test')\n",
    "\n",
    "print(\"Dense SIFT feature extraction\")\n",
    "x_train_feature = [extract_DenseSift_descriptors(img) for img in x_train]\n",
    "x_test_feature = [extract_DenseSift_descriptors(img) for img in x_test]\n",
    "x_train_kp, x_train_des = zip(*x_train_feature)\n",
    "x_test_kp, x_test_des = zip(*x_test_feature)\n",
    "\n",
    "print(\"Train/Test split: {:d}/{:d}\".format(len(y_train), len(y_test)))\n",
    "print(\"Codebook Size: {:d}\".format(VOC_SIZE))\n",
    "print(\"Pyramid level: {:d}\".format(PYRAMID_LEVEL))\n",
    "print(\"Building the codebook, it will take some time\")\n",
    "codebook = build_codebook(x_train_des, VOC_SIZE)\n",
    "\n",
    "#import pickle\n",
    "#with open('./spm_lv1_codebook.pkl','wb') as f:\n",
    "#    pickle.dump(codebook, f)"
   ]
  },
  {
   "cell_type": "code",
   "execution_count": 6,
   "metadata": {},
   "outputs": [
    {
     "name": "stdout",
     "output_type": "stream",
     "text": [
      "Spatial Pyramid Matching encoding\n"
     ]
    }
   ],
   "source": [
    "print(\"Spatial Pyramid Matching encoding\")\n",
    "\n",
    "x_train = [spatial_pyramid_matching(x_train[i],\n",
    "                                        x_train_des[i],\n",
    "                                        codebook,\n",
    "                                        level=PYRAMID_LEVEL)\n",
    "                                        for i in range(len(x_train))]\n",
    "\n",
    "x_test = [spatial_pyramid_matching(x_test[i],\n",
    "                                       x_test_des[i],\n",
    "                                       codebook,\n",
    "                                       level=PYRAMID_LEVEL) for i in range(len(x_test))]\n",
    "\n",
    "x_train = np.asarray(x_train)\n",
    "x_test = np.asarray(x_test)\n",
    "\n",
    "#svm_classifier(x_train, y_train, x_test, y_test)"
   ]
  },
  {
   "cell_type": "code",
   "execution_count": 7,
   "metadata": {},
   "outputs": [
    {
     "name": "stdout",
     "output_type": "stream",
     "text": [
      "Tuning hyper-parameters\n",
      "\n",
      "Best parameters set found on development set:\n",
      "\n",
      "SVC(C=10.0, cache_size=200, class_weight=None, coef0=0.0,\n",
      "  decision_function_shape='ovr', degree=3, gamma=1.0, kernel='rbf',\n",
      "  max_iter=-1, probability=False, random_state=None, shrinking=True,\n",
      "  tol=0.001, verbose=False)\n",
      "\n",
      "Grid scores on development set:\n",
      "\n",
      "0.114 (+/-0.000) for {'C': 0.001, 'gamma': 0.001}\n",
      "0.114 (+/-0.000) for {'C': 0.001, 'gamma': 0.01}\n",
      "0.114 (+/-0.000) for {'C': 0.001, 'gamma': 0.1}\n",
      "0.114 (+/-0.000) for {'C': 0.001, 'gamma': 1.0}\n",
      "0.114 (+/-0.000) for {'C': 0.001, 'gamma': 10.0}\n",
      "0.114 (+/-0.000) for {'C': 0.001, 'gamma': 100.0}\n",
      "0.114 (+/-0.000) for {'C': 0.01, 'gamma': 0.001}\n",
      "0.114 (+/-0.000) for {'C': 0.01, 'gamma': 0.01}\n",
      "0.114 (+/-0.001) for {'C': 0.01, 'gamma': 0.1}\n",
      "0.755 (+/-0.016) for {'C': 0.01, 'gamma': 1.0}\n",
      "0.294 (+/-0.020) for {'C': 0.01, 'gamma': 10.0}\n",
      "0.114 (+/-0.000) for {'C': 0.01, 'gamma': 100.0}\n",
      "0.114 (+/-0.000) for {'C': 0.1, 'gamma': 0.001}\n",
      "0.116 (+/-0.002) for {'C': 0.1, 'gamma': 0.01}\n",
      "0.800 (+/-0.016) for {'C': 0.1, 'gamma': 0.1}\n",
      "0.871 (+/-0.011) for {'C': 0.1, 'gamma': 1.0}\n",
      "0.812 (+/-0.006) for {'C': 0.1, 'gamma': 10.0}\n",
      "0.151 (+/-0.012) for {'C': 0.1, 'gamma': 100.0}\n",
      "0.118 (+/-0.002) for {'C': 1.0, 'gamma': 0.001}\n",
      "0.801 (+/-0.015) for {'C': 1.0, 'gamma': 0.01}\n",
      "0.875 (+/-0.011) for {'C': 1.0, 'gamma': 0.1}\n",
      "0.911 (+/-0.007) for {'C': 1.0, 'gamma': 1.0}\n",
      "0.917 (+/-0.008) for {'C': 1.0, 'gamma': 10.0}\n",
      "0.395 (+/-0.032) for {'C': 1.0, 'gamma': 100.0}\n",
      "0.802 (+/-0.015) for {'C': 10.0, 'gamma': 0.001}\n",
      "0.876 (+/-0.011) for {'C': 10.0, 'gamma': 0.01}\n",
      "0.910 (+/-0.005) for {'C': 10.0, 'gamma': 0.1}\n",
      "0.930 (+/-0.006) for {'C': 10.0, 'gamma': 1.0}\n",
      "0.919 (+/-0.011) for {'C': 10.0, 'gamma': 10.0}\n",
      "0.412 (+/-0.030) for {'C': 10.0, 'gamma': 100.0}\n",
      "0.876 (+/-0.011) for {'C': 100.0, 'gamma': 0.001}\n",
      "0.909 (+/-0.005) for {'C': 100.0, 'gamma': 0.01}\n",
      "0.920 (+/-0.008) for {'C': 100.0, 'gamma': 0.1}\n",
      "0.925 (+/-0.010) for {'C': 100.0, 'gamma': 1.0}\n",
      "0.919 (+/-0.011) for {'C': 100.0, 'gamma': 10.0}\n",
      "0.412 (+/-0.030) for {'C': 100.0, 'gamma': 100.0}\n",
      "\n",
      "Detailed classification report:\n",
      "\n",
      "The model is trained on the full development set.\n",
      "The scores are computed on the full evaluation set.\n",
      "\n",
      "             precision    recall  f1-score   support\n",
      "\n",
      "          0       0.95      0.97      0.96      1004\n",
      "          1       0.98      0.99      0.99      1110\n",
      "          2       0.93      0.95      0.94      1023\n",
      "          3       0.86      0.89      0.87       994\n",
      "          4       0.94      0.91      0.93       982\n",
      "          5       0.93      0.87      0.90       908\n",
      "          6       0.95      0.96      0.95       947\n",
      "          7       0.90      0.91      0.91      1007\n",
      "          8       0.87      0.86      0.86      1017\n",
      "          9       0.88      0.87      0.87      1008\n",
      "\n",
      "avg / total       0.92      0.92      0.92     10000\n",
      "\n"
     ]
    }
   ],
   "source": [
    "svm_classifier(x_train, y_train, x_test, y_test)"
   ]
  },
  {
   "cell_type": "code",
   "execution_count": 9,
   "metadata": {},
   "outputs": [
    {
     "name": "stdout",
     "output_type": "stream",
     "text": [
      "0.912\n"
     ]
    }
   ],
   "source": [
    "clf = svm.SVC(C = 100, gamma =1)\n",
    "clf.fit(x_train, y_train)\n",
    "z = clf.predict(x_test)\n",
    "print(accuracy_score(z,y_test))"
   ]
  },
  {
   "cell_type": "code",
   "execution_count": 10,
   "metadata": {},
   "outputs": [],
   "source": [
    "conf = confusion_matrix(z,y_test)"
   ]
  },
  {
   "cell_type": "code",
   "execution_count": 11,
   "metadata": {},
   "outputs": [
    {
     "name": "stdout",
     "output_type": "stream",
     "text": [
      "Normalized confusion matrix\n",
      "[[9.42028986e-01 0.00000000e+00 5.79710145e-03 0.00000000e+00\n",
      "  9.66183575e-04 6.76328502e-03 1.15942029e-02 3.86473430e-03\n",
      "  1.83574879e-02 1.06280193e-02]\n",
      " [8.97666068e-04 9.81149013e-01 8.97666068e-04 0.00000000e+00\n",
      "  1.79533214e-03 8.97666068e-04 2.69299820e-03 0.00000000e+00\n",
      "  6.28366248e-03 5.38599641e-03]\n",
      " [3.80589914e-03 2.85442436e-03 9.17221694e-01 3.13986679e-02\n",
      "  4.75737393e-03 7.61179829e-03 1.90294957e-03 1.80780209e-02\n",
      "  1.04662226e-02 1.90294957e-03]\n",
      " [0.00000000e+00 9.83284169e-04 2.16322517e-02 8.45624385e-01\n",
      "  0.00000000e+00 5.30973451e-02 0.00000000e+00 2.45821042e-02\n",
      "  3.53982301e-02 1.86823992e-02]\n",
      " [3.07377049e-03 1.02459016e-03 1.02459016e-03 0.00000000e+00\n",
      "  9.26229508e-01 2.04918033e-03 1.53688525e-02 0.00000000e+00\n",
      "  1.12704918e-02 3.99590164e-02]\n",
      " [1.14285714e-03 0.00000000e+00 1.14285714e-03 4.57142857e-02\n",
      "  1.14285714e-03 9.06285714e-01 1.14285714e-03 0.00000000e+00\n",
      "  3.42857143e-02 9.14285714e-03]\n",
      " [9.41422594e-03 5.23012552e-03 4.18410042e-03 0.00000000e+00\n",
      "  1.88284519e-02 7.32217573e-03 9.45606695e-01 0.00000000e+00\n",
      "  9.41422594e-03 0.00000000e+00]\n",
      " [9.75609756e-04 9.75609756e-04 8.78048780e-03 1.65853659e-02\n",
      "  9.75609756e-04 5.85365854e-03 0.00000000e+00 8.97560976e-01\n",
      "  1.36585366e-02 5.46341463e-02]\n",
      " [1.02040816e-02 6.12244898e-03 1.53061224e-02 3.26530612e-02\n",
      "  4.08163265e-03 2.75510204e-02 1.02040816e-02 8.16326531e-03\n",
      "  8.71428571e-01 1.42857143e-02]\n",
      " [0.00000000e+00 0.00000000e+00 0.00000000e+00 1.23583934e-02\n",
      "  4.73738414e-02 3.08959835e-03 0.00000000e+00 3.19258496e-02\n",
      "  2.67765191e-02 8.78475798e-01]]\n"
     ]
    },
    {
     "data": {
      "image/png": "[encoded data removed]",
      "text/plain": [
       "<matplotlib.figure.Figure at 0x11366a4a8>"
      ]
     },
     "metadata": {},
     "output_type": "display_data"
    }
   ],
   "source": [
    "plot_confusion_matrix(conf, classes = [str(i) for i in range(10)], normalize=True,\n",
    "                      title='Normalized confusion matrix')"
   ]
  },
  {
   "cell_type": "code",
   "execution_count": null,
   "metadata": {},
   "outputs": [],
   "source": []
  }
 ],
 "metadata": {
  "kernelspec": {
   "display_name": "Python 3",
   "language": "python",
   "name": "python3"
  },
  "language_info": {
   "codemirror_mode": {
    "name": "ipython",
    "version": 3
   },
   "file_extension": ".py",
   "mimetype": "text/x-python",
   "name": "python",
   "nbconvert_exporter": "python",
   "pygments_lexer": "ipython3",
   "version": "3.6.5"
  }
 },
 "nbformat": 4,
 "nbformat_minor": 2
}
