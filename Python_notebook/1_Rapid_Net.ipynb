{
 "cells": [
  {
   "cell_type": "markdown",
   "metadata": {
    "collapsed": true
   },
   "source": [
    "## Introduction:\n",
    "You can use this ipython notebook as a template for the rest of the homework."
   ]
  },
  {
   "cell_type": "markdown",
   "metadata": {},
   "source": [
    "### 0. Basic Useful Setups:"
   ]
  },
  {
   "cell_type": "code",
   "execution_count": 1,
   "metadata": {},
   "outputs": [
    {
     "name": "stderr",
     "output_type": "stream",
     "text": [
      "/usr/local/lib/python3.6/site-packages/h5py/__init__.py:36: FutureWarning: Conversion of the second argument of issubdtype from `float` to `np.floating` is deprecated. In future, it will be treated as `np.float64 == np.dtype(float).type`.\n",
      "  from ._conv import register_converters as _register_converters\n",
      "Using TensorFlow backend.\n"
     ]
    }
   ],
   "source": [
    "### Basic setups\n",
    "from numpy.random import seed\n",
    "seed(1)\n",
    "from tensorflow import set_random_seed\n",
    "set_random_seed(2)\n",
    "import sys\n",
    "sys.path.append('./models/')\n",
    "# Enable automatic reload of libraries\n",
    "%load_ext autoreload\n",
    "# All modules are reloaded before every comment\n",
    "%autoreload 2\n",
    "import keras\n",
    "import numpy as np\n",
    "import time\n",
    "from matplotlib import pyplot as plt\n",
    "%matplotlib inline\n",
    "from sklearn.model_selection import GridSearchCV\n",
    "from keras.wrappers.scikit_learn import KerasClassifier\n",
    "from tqdm import tqdm"
   ]
  },
  {
   "cell_type": "code",
   "execution_count": 2,
   "metadata": {},
   "outputs": [],
   "source": [
    "class TimeHistory(keras.callbacks.Callback):\n",
    "    def on_train_begin(self, logs={}):\n",
    "        self.times = []\n",
    "\n",
    "    def on_epoch_begin(self, batch, logs={}):\n",
    "        self.epoch_time_start = time.time()\n",
    "\n",
    "    def on_epoch_end(self, batch, logs={}):\n",
    "        self.times.append(time.time() - self.epoch_time_start)"
   ]
  },
  {
   "cell_type": "markdown",
   "metadata": {},
   "source": [
    "### 1. Read MNIST using Keras"
   ]
  },
  {
   "cell_type": "code",
   "execution_count": 3,
   "metadata": {},
   "outputs": [
    {
     "name": "stdout",
     "output_type": "stream",
     "text": [
      "x_train shape: (60000, 28, 28, 1)\n",
      "60000 train samples\n",
      "10000 test samples\n"
     ]
    }
   ],
   "source": [
    "from utils import load_mnist\n",
    "(x_train, y_train), (x_test, y_test) = load_mnist()"
   ]
  },
  {
   "cell_type": "markdown",
   "metadata": {},
   "source": [
    "### 1. Load LetNet Model"
   ]
  },
  {
   "cell_type": "code",
   "execution_count": 4,
   "metadata": {},
   "outputs": [
    {
     "name": "stdout",
     "output_type": "stream",
     "text": [
      "_________________________________________________________________\n",
      "Layer (type)                 Output Shape              Param #   \n",
      "=================================================================\n",
      "input_1 (InputLayer)         (None, 28, 28, 1)         0         \n",
      "_________________________________________________________________\n",
      "block1_conv1 (Conv2D)        (None, 28, 28, 20)        520       \n",
      "_________________________________________________________________\n",
      "block1_pool (MaxPooling2D)   (None, 14, 14, 20)        0         \n",
      "_________________________________________________________________\n",
      "block2_conv2 (Conv2D)        (None, 14, 14, 50)        25050     \n",
      "_________________________________________________________________\n",
      "block2_pool (MaxPooling2D)   (None, 7, 7, 50)          0         \n",
      "_________________________________________________________________\n",
      "flatten (Flatten)            (None, 2450)              0         \n",
      "_________________________________________________________________\n",
      "fc1 (Dense)                  (None, 500)               1225500   \n",
      "_________________________________________________________________\n",
      "predications (Dense)         (None, 10)                5010      \n",
      "=================================================================\n",
      "Total params: 1,256,080\n",
      "Trainable params: 1,256,080\n",
      "Non-trainable params: 0\n",
      "_________________________________________________________________\n"
     ]
    }
   ],
   "source": [
    "from keras.utils.vis_utils import plot_model # can be used to plot the model into a png file.\n",
    "from LeNet import LeNet\n",
    "NUM_CLASSES = 10\n",
    "model = LeNet(num_classes = NUM_CLASSES)\n",
    "model.compile(loss=keras.losses.categorical_crossentropy,\n",
    "              optimizer=keras.optimizers.Adadelta(),\n",
    "              metrics=['accuracy'])\n",
    "# You can save the model by specifying a path\n",
    "# modelPath = ____\n",
    "# model.save(modelPath)\n",
    "\n",
    "# You can also print out the model by typing\n",
    "model.summary()\n",
    "\n",
    "# You can plot the model into a png file and use it in your report.\n",
    "pngModelPath = './png/LeNet.png'\n",
    "plot_model(model, to_file=pngModelPath, show_shapes=True)"
   ]
  },
  {
   "cell_type": "markdown",
   "metadata": {},
   "source": [
    "### 2. Train and Evaluate LeNet Model"
   ]
  },
  {
   "cell_type": "code",
   "execution_count": 5,
   "metadata": {},
   "outputs": [
    {
     "name": "stdout",
     "output_type": "stream",
     "text": [
      "Train on 60000 samples, validate on 10000 samples\n",
      "Epoch 1/12\n",
      "60000/60000 [==============================] - 164s 3ms/step - loss: 0.1913 - acc: 0.9412 - val_loss: 0.0547 - val_acc: 0.9816\n",
      "Epoch 2/12\n",
      "60000/60000 [==============================] - 179s 3ms/step - loss: 0.0441 - acc: 0.9868 - val_loss: 0.0344 - val_acc: 0.9884\n",
      "Epoch 3/12\n",
      "60000/60000 [==============================] - 162s 3ms/step - loss: 0.0280 - acc: 0.9915 - val_loss: 0.0394 - val_acc: 0.9864\n",
      "Epoch 4/12\n",
      "60000/60000 [==============================] - 181s 3ms/step - loss: 0.0204 - acc: 0.9933 - val_loss: 0.0267 - val_acc: 0.9907\n",
      "Epoch 5/12\n",
      "60000/60000 [==============================] - 171s 3ms/step - loss: 0.0151 - acc: 0.9951 - val_loss: 0.0207 - val_acc: 0.9922\n",
      "Epoch 6/12\n",
      "60000/60000 [==============================] - 167s 3ms/step - loss: 0.0110 - acc: 0.9964 - val_loss: 0.0225 - val_acc: 0.9919\n",
      "Epoch 7/12\n",
      "60000/60000 [==============================] - 153s 3ms/step - loss: 0.0085 - acc: 0.9975 - val_loss: 0.0216 - val_acc: 0.9930\n",
      "Epoch 8/12\n",
      "60000/60000 [==============================] - 159s 3ms/step - loss: 0.0067 - acc: 0.9979 - val_loss: 0.0232 - val_acc: 0.9927\n",
      "Epoch 9/12\n",
      "60000/60000 [==============================] - 159s 3ms/step - loss: 0.0045 - acc: 0.9988 - val_loss: 0.0224 - val_acc: 0.9929\n",
      "Epoch 10/12\n",
      "60000/60000 [==============================] - 159s 3ms/step - loss: 0.0041 - acc: 0.9989 - val_loss: 0.0235 - val_acc: 0.9919\n",
      "Epoch 11/12\n",
      "60000/60000 [==============================] - 155s 3ms/step - loss: 0.0024 - acc: 0.9994 - val_loss: 0.0246 - val_acc: 0.9927\n",
      "Epoch 12/12\n",
      "60000/60000 [==============================] - 156s 3ms/step - loss: 0.0021 - acc: 0.9994 - val_loss: 0.0318 - val_acc: 0.9918\n",
      "Test loss: 0.03183059575002526\n",
      "Test accuracy: 0.9918\n",
      "[163.9829409122467, 178.54639792442322, 162.2160439491272, 180.55280900001526, 170.99756693840027, 167.4595787525177, 153.01788711547852, 159.07653188705444, 158.88153290748596, 159.1772952079773, 154.69822907447815, 156.17272210121155]\n"
     ]
    }
   ],
   "source": [
    "# train model\n",
    "BATCH_SIZE = 128\n",
    "time_callback = TimeHistory()\n",
    "MAX_EPOCH = 12\n",
    "\n",
    "history_1 = model.fit(x_train, y_train,\n",
    "          batch_size=BATCH_SIZE,\n",
    "          epochs=MAX_EPOCH,\n",
    "          verbose=1,\n",
    "          validation_data=(x_test, y_test),callbacks=[time_callback])\n",
    "score = model.evaluate(x_test, y_test, verbose=0)\n",
    "times_1 = time_callback.times\n",
    "print('Test loss:', score[0])\n",
    "print('Test accuracy:', score[1])\n",
    "print(times_1)"
   ]
  },
  {
   "cell_type": "markdown",
   "metadata": {},
   "source": [
    "# Rapid Net"
   ]
  },
  {
   "cell_type": "code",
   "execution_count": 6,
   "metadata": {},
   "outputs": [
    {
     "name": "stdout",
     "output_type": "stream",
     "text": [
      "_________________________________________________________________\n",
      "Layer (type)                 Output Shape              Param #   \n",
      "=================================================================\n",
      "input_2 (InputLayer)         (None, 28, 28, 1)         0         \n",
      "_________________________________________________________________\n",
      "average_pooling2d_1 (Average (None, 14, 14, 1)         0         \n",
      "_________________________________________________________________\n",
      "conv2d_1 (Conv2D)            (None, 10, 10, 32)        832       \n",
      "_________________________________________________________________\n",
      "max_pooling2d_1 (MaxPooling2 (None, 5, 5, 32)          0         \n",
      "_________________________________________________________________\n",
      "conv2d_2 (Conv2D)            (None, 3, 3, 32)          9248      \n",
      "_________________________________________________________________\n",
      "flatten_1 (Flatten)          (None, 288)               0         \n",
      "_________________________________________________________________\n",
      "dense_1 (Dense)              (None, 1024)              295936    \n",
      "_________________________________________________________________\n",
      "dense_2 (Dense)              (None, 10)                10250     \n",
      "=================================================================\n",
      "Total params: 316,266\n",
      "Trainable params: 316,266\n",
      "Non-trainable params: 0\n",
      "_________________________________________________________________\n"
     ]
    }
   ],
   "source": [
    "from keras.utils.vis_utils import plot_model # can be used to plot the model into a png file.\n",
    "from Rapid_Net import Rapid_Net\n",
    "\n",
    "NUM_CLASSES = 10\n",
    "MAX_EPOCH = 12\n",
    "model = Rapid_Net((28,28,1),num_classes = NUM_CLASSES)\n",
    "\n",
    "# You can also print out the model by typing\n",
    "model.summary()\n",
    "\n",
    "# You can plot the model into a png file and use it in your report.\n",
    "pngModelPath = './png/Rapid_Net.png'\n",
    "plot_model(model, to_file=pngModelPath, show_shapes=True)"
   ]
  },
  {
   "cell_type": "markdown",
   "metadata": {},
   "source": [
    "# Hyperparameter tune\n",
    "## Optimizers\n",
    "Stochastic Gradient Descent, Adaptive Gradient, RMSprop and/or Nesterov's Accelerated Gradient"
   ]
  },
  {
   "cell_type": "code",
   "execution_count": 7,
   "metadata": {},
   "outputs": [
    {
     "name": "stderr",
     "output_type": "stream",
     "text": [
      "100%|██████████| 7/7 [22:42<00:00, 194.60s/it]\n"
     ]
    }
   ],
   "source": [
    "# define the grid search parameters\n",
    "optimizer = ['SGD', 'RMSprop', 'Adagrad', 'Adadelta', 'Adam', 'Adamax', 'Nadam']\n",
    "score_log = []\n",
    "BATCH_SIZE = 128\n",
    "for opt in tqdm(optimizer):\n",
    "    model.compile(loss=keras.losses.categorical_crossentropy,\n",
    "                  optimizer=opt,\n",
    "                  metrics=['accuracy'])\n",
    "    model.fit(x_train, y_train,\n",
    "          batch_size=BATCH_SIZE,\n",
    "          epochs=MAX_EPOCH,\n",
    "          verbose=0)\n",
    "    score = model.evaluate(x_test, y_test, verbose=0)\n",
    "    score_log.append([opt,score])  "
   ]
  },
  {
   "cell_type": "code",
   "execution_count": 8,
   "metadata": {},
   "outputs": [
    {
     "data": {
      "text/plain": [
       "[['SGD', [0.1138008848387748, 0.9669]],\n",
       " ['RMSprop', [0.038905511912731575, 0.9901]],\n",
       " ['Adagrad', [0.037174660887556596, 0.9915]],\n",
       " ['Adadelta', [0.04517000092788248, 0.9917]],\n",
       " ['Adam', [0.046639757655718816, 0.9909]],\n",
       " ['Adamax', [0.051536800559021094, 0.9916]],\n",
       " ['Nadam', [0.0599945265445127, 0.9888]]]"
      ]
     },
     "execution_count": 8,
     "metadata": {},
     "output_type": "execute_result"
    }
   ],
   "source": [
    "score_log"
   ]
  },
  {
   "cell_type": "code",
   "execution_count": 9,
   "metadata": {},
   "outputs": [
    {
     "name": "stderr",
     "output_type": "stream",
     "text": [
      "100%|██████████| 4/4 [12:36<00:00, 189.17s/it]\n"
     ]
    }
   ],
   "source": [
    "score_log_lr = []\n",
    "learning_rate = [0.0002,0.002,0.02,0.2]\n",
    "for learn in tqdm(learning_rate):\n",
    "    model = Rapid_Net((28,28,1),num_classes = NUM_CLASSES)\n",
    "    opt = keras.optimizers.Adamax(lr=learn, beta_1=0.9, beta_2=0.999, epsilon=None, decay=0.0)\n",
    "    model.compile(loss=keras.losses.categorical_crossentropy,\n",
    "                  optimizer=opt,\n",
    "                  metrics=['accuracy'])\n",
    "    model.fit(x_train, y_train,\n",
    "          batch_size=BATCH_SIZE,\n",
    "          epochs=MAX_EPOCH,\n",
    "          verbose=0)\n",
    "    score = model.evaluate(x_test, y_test, verbose=0)\n",
    "    score_log_lr.append([learn,score])  "
   ]
  },
  {
   "cell_type": "code",
   "execution_count": 10,
   "metadata": {},
   "outputs": [
    {
     "data": {
      "text/plain": [
       "[[0.0002, [0.08346837266627699, 0.9739]],\n",
       " [0.002, [0.033176287287444574, 0.9895]],\n",
       " [0.02, [0.044044104952702126, 0.9895]],\n",
       " [0.2, [14.538521841430665, 0.098]]]"
      ]
     },
     "execution_count": 10,
     "metadata": {},
     "output_type": "execute_result"
    }
   ],
   "source": [
    "score_log_lr"
   ]
  },
  {
   "cell_type": "code",
   "execution_count": 11,
   "metadata": {
    "scrolled": false
   },
   "outputs": [
    {
     "name": "stdout",
     "output_type": "stream",
     "text": [
      "Train on 60000 samples, validate on 10000 samples\n",
      "Epoch 1/36\n",
      "60000/60000 [==============================] - 21s 349us/step - loss: 0.3056 - acc: 0.9104 - val_loss: 0.1093 - val_acc: 0.9662\n",
      "Epoch 2/36\n",
      "60000/60000 [==============================] - 20s 330us/step - loss: 0.1014 - acc: 0.9689 - val_loss: 0.0721 - val_acc: 0.9779\n",
      "Epoch 3/36\n",
      "60000/60000 [==============================] - 20s 340us/step - loss: 0.0698 - acc: 0.9782 - val_loss: 0.0644 - val_acc: 0.9799\n",
      "Epoch 4/36\n",
      "60000/60000 [==============================] - 18s 307us/step - loss: 0.0560 - acc: 0.9826 - val_loss: 0.0471 - val_acc: 0.9847\n",
      "Epoch 5/36\n",
      "60000/60000 [==============================] - 18s 295us/step - loss: 0.0452 - acc: 0.9860 - val_loss: 0.0386 - val_acc: 0.9882\n",
      "Epoch 6/36\n",
      "60000/60000 [==============================] - 18s 305us/step - loss: 0.0374 - acc: 0.9880 - val_loss: 0.0372 - val_acc: 0.9878\n",
      "Epoch 7/36\n",
      "60000/60000 [==============================] - 20s 330us/step - loss: 0.0328 - acc: 0.9897 - val_loss: 0.0339 - val_acc: 0.9887\n",
      "Epoch 8/36\n",
      "60000/60000 [==============================] - 21s 350us/step - loss: 0.0289 - acc: 0.9907 - val_loss: 0.0347 - val_acc: 0.9892\n",
      "Epoch 9/36\n",
      "60000/60000 [==============================] - 18s 301us/step - loss: 0.0253 - acc: 0.9916 - val_loss: 0.0375 - val_acc: 0.9880\n",
      "Epoch 10/36\n",
      "60000/60000 [==============================] - 18s 296us/step - loss: 0.0213 - acc: 0.9932 - val_loss: 0.0319 - val_acc: 0.9894\n",
      "Epoch 11/36\n",
      "60000/60000 [==============================] - 18s 308us/step - loss: 0.0189 - acc: 0.9940 - val_loss: 0.0324 - val_acc: 0.9893\n",
      "Epoch 12/36\n",
      "60000/60000 [==============================] - 20s 327us/step - loss: 0.0166 - acc: 0.9949 - val_loss: 0.0337 - val_acc: 0.9889\n",
      "Epoch 13/36\n",
      "60000/60000 [==============================] - 20s 334us/step - loss: 0.0139 - acc: 0.9955 - val_loss: 0.0346 - val_acc: 0.9884\n",
      "Epoch 14/36\n",
      "60000/60000 [==============================] - 20s 327us/step - loss: 0.0131 - acc: 0.9960 - val_loss: 0.0324 - val_acc: 0.9892\n",
      "Epoch 15/36\n",
      "60000/60000 [==============================] - 22s 375us/step - loss: 0.0106 - acc: 0.9970 - val_loss: 0.0376 - val_acc: 0.9880\n",
      "Epoch 16/36\n",
      "60000/60000 [==============================] - 22s 369us/step - loss: 0.0100 - acc: 0.9969 - val_loss: 0.0318 - val_acc: 0.9904\n",
      "Epoch 17/36\n",
      "60000/60000 [==============================] - 19s 319us/step - loss: 0.0090 - acc: 0.9970 - val_loss: 0.0364 - val_acc: 0.9904\n",
      "Epoch 18/36\n",
      "60000/60000 [==============================] - 21s 354us/step - loss: 0.0075 - acc: 0.9979 - val_loss: 0.0325 - val_acc: 0.9890\n",
      "Epoch 19/36\n",
      "60000/60000 [==============================] - 20s 330us/step - loss: 0.0068 - acc: 0.9980 - val_loss: 0.0322 - val_acc: 0.9905\n",
      "Epoch 20/36\n",
      "60000/60000 [==============================] - 20s 333us/step - loss: 0.0068 - acc: 0.9979 - val_loss: 0.0423 - val_acc: 0.9882\n",
      "Epoch 21/36\n",
      "60000/60000 [==============================] - 20s 331us/step - loss: 0.0054 - acc: 0.9984 - val_loss: 0.0359 - val_acc: 0.9900\n",
      "Epoch 22/36\n",
      "60000/60000 [==============================] - 19s 321us/step - loss: 0.0049 - acc: 0.9988 - val_loss: 0.0348 - val_acc: 0.9899\n",
      "Epoch 23/36\n",
      "60000/60000 [==============================] - 22s 372us/step - loss: 0.0044 - acc: 0.9988 - val_loss: 0.0365 - val_acc: 0.9898\n",
      "Epoch 24/36\n",
      "60000/60000 [==============================] - 19s 318us/step - loss: 0.0036 - acc: 0.9991 - val_loss: 0.0376 - val_acc: 0.9904\n",
      "Epoch 25/36\n",
      "60000/60000 [==============================] - 20s 338us/step - loss: 0.0033 - acc: 0.9992 - val_loss: 0.0377 - val_acc: 0.9898\n",
      "Epoch 26/36\n",
      "60000/60000 [==============================] - 20s 329us/step - loss: 0.0028 - acc: 0.9993 - val_loss: 0.0396 - val_acc: 0.9896\n",
      "Epoch 27/36\n",
      "60000/60000 [==============================] - 21s 353us/step - loss: 0.0028 - acc: 0.9993 - val_loss: 0.0394 - val_acc: 0.9894\n",
      "Epoch 28/36\n",
      "60000/60000 [==============================] - 20s 335us/step - loss: 0.0022 - acc: 0.9995 - val_loss: 0.0412 - val_acc: 0.9904\n",
      "Epoch 29/36\n",
      "60000/60000 [==============================] - 19s 314us/step - loss: 0.0020 - acc: 0.9996 - val_loss: 0.0425 - val_acc: 0.9897\n",
      "Epoch 30/36\n",
      "60000/60000 [==============================] - 21s 342us/step - loss: 0.0018 - acc: 0.9997 - val_loss: 0.0422 - val_acc: 0.9894\n",
      "Epoch 31/36\n",
      "60000/60000 [==============================] - 20s 333us/step - loss: 0.0019 - acc: 0.9996 - val_loss: 0.0390 - val_acc: 0.9910\n",
      "Epoch 32/36\n",
      "60000/60000 [==============================] - 20s 329us/step - loss: 0.0020 - acc: 0.9996 - val_loss: 0.0434 - val_acc: 0.9898\n",
      "Epoch 33/36\n",
      "60000/60000 [==============================] - 20s 327us/step - loss: 0.0014 - acc: 0.9997 - val_loss: 0.0400 - val_acc: 0.9902\n",
      "Epoch 34/36\n",
      "60000/60000 [==============================] - 21s 350us/step - loss: 0.0011 - acc: 0.9999 - val_loss: 0.0481 - val_acc: 0.9898\n",
      "Epoch 35/36\n",
      "60000/60000 [==============================] - 19s 318us/step - loss: 0.0015 - acc: 0.9998 - val_loss: 0.0417 - val_acc: 0.9898\n",
      "Epoch 36/36\n",
      "60000/60000 [==============================] - 20s 326us/step - loss: 0.0015 - acc: 0.9996 - val_loss: 0.0453 - val_acc: 0.9904\n",
      "Test loss: 0.04530107741965494\n",
      "Test accuracy: 0.9904\n",
      "[20.948924779891968, 19.815401077270508, 20.391502857208252, 18.4305579662323, 17.700220346450806, 18.27357316017151, 19.800273180007935, 20.978655099868774, 18.089393854141235, 17.76395606994629, 18.46340799331665, 19.647319078445435, 20.02847909927368, 19.62030792236328, 22.485474109649658, 22.17039704322815, 19.145129919052124, 21.265131950378418, 19.802738904953003, 19.960006952285767, 19.859571933746338, 19.253955841064453, 22.310636043548584, 19.08804178237915, 20.3088538646698, 19.759685754776, 21.192230939865112, 20.071981191635132, 18.82124900817871, 20.532848834991455, 19.9601309299469, 19.751532077789307, 19.623200178146362, 21.025293111801147, 19.052401065826416, 19.58473777770996]\n"
     ]
    }
   ],
   "source": [
    "model = Rapid_Net((28,28,1),num_classes = NUM_CLASSES)\n",
    "opt = keras.optimizers.Adamax(lr=0.002, beta_1=0.9, beta_2=0.999, epsilon=None, decay=0.0)\n",
    "model.compile(loss=keras.losses.categorical_crossentropy,\n",
    "              optimizer=opt,\n",
    "              metrics=['accuracy'])\n",
    "# train model\n",
    "BATCH_SIZE = 128\n",
    "time_callback = TimeHistory()\n",
    "\n",
    "history_2 = model.fit(x_train, y_train,\n",
    "          batch_size=BATCH_SIZE,\n",
    "          epochs=36,\n",
    "          verbose=1,\n",
    "          validation_data=(x_test, y_test),callbacks=[time_callback])\n",
    "score = model.evaluate(x_test, y_test, verbose=0)\n",
    "times_2 = time_callback.times\n",
    "print('Test loss:', score[0])\n",
    "print('Test accuracy:', score[1])\n",
    "print(times_2)"
   ]
  },
  {
   "cell_type": "markdown",
   "metadata": {},
   "source": [
    "# Plot - Loss"
   ]
  },
  {
   "cell_type": "code",
   "execution_count": 22,
   "metadata": {},
   "outputs": [
    {
     "data": {
      "text/plain": [
       "<matplotlib.text.Text at 0x1325eb1d0>"
      ]
     },
     "execution_count": 22,
     "metadata": {},
     "output_type": "execute_result"
    },
    {
     "data": {
      "image/png": "[encoded data removed]",
      "text/plain": [
       "<matplotlib.figure.Figure at 0x1322b52e8>"
      ]
     },
     "metadata": {},
     "output_type": "display_data"
    }
   ],
   "source": [
    "plt.plot(range(1,37), history_2.history['loss'], label='Train Loss')\n",
    "plt.plot(range(1,37), history_2.history['val_loss'], label='Test Loss')\n",
    "plt.legend()\n",
    "plt.xlabel('Epoch')\n",
    "plt.ylabel('Loss')"
   ]
  },
  {
   "cell_type": "markdown",
   "metadata": {},
   "source": [
    "# Analysis"
   ]
  },
  {
   "cell_type": "code",
   "execution_count": 13,
   "metadata": {},
   "outputs": [
    {
     "name": "stdout",
     "output_type": "stream",
     "text": [
      "Time taken for running LeNet is 1964.7795357704163\n",
      "Time taken for running Rapid_Net is 714.9772017002106\n"
     ]
    }
   ],
   "source": [
    "print('Time taken for running LeNet is', sum(times_1))\n",
    "print('Time taken for running Rapid_Net is', sum(times_2))"
   ]
  },
  {
   "cell_type": "markdown",
   "metadata": {},
   "source": [
    "# Comparison Plot"
   ]
  },
  {
   "cell_type": "code",
   "execution_count": 39,
   "metadata": {},
   "outputs": [
    {
     "data": {
      "image/png": "[encoded data removed]",
      "text/plain": [
       "<matplotlib.figure.Figure at 0x1345174a8>"
      ]
     },
     "metadata": {},
     "output_type": "display_data"
    }
   ],
   "source": [
    "#Find cumulative sum\n",
    "cum_times_1 = np.cumsum(times_1)\n",
    "cum_times_2 = np.cumsum(times_2)\n",
    "\n",
    "fig = plt.figure(figsize=(10,10))\n",
    "\n",
    "#plt.subplot(4, 4, 1)\n",
    "#plt.plot(range(1,13),history_1.history['acc'])\n",
    "#plt.plot(range(1,37),history_2.history['acc'])\n",
    "#plt.ylim([0.88,1])\n",
    "fig.suptitle(\"Please Note how the rapid net reaches comparable accuracy and loss in fraction of time\", fontsize=16)\n",
    "#plt.title('Please Note how the rapid net reaches comparable accuracy and loss in fraction of time')\n",
    "plt.subplot(3, 3, 1)\n",
    "plt.plot(cum_times_1,history_1.history['acc'], label='Train accuracy on Rapid_Net')\n",
    "plt.plot(cum_times_2,history_2.history['acc'], label='Train accuracy on LeNet')\n",
    "plt.legend()\n",
    "plt.xlabel('Time in seconds')\n",
    "plt.ylabel('Accuracy')\n",
    "plt.ylim([0.88,1])\n",
    "\n",
    "plt.subplot(3, 3, 2)\n",
    "plt.plot(cum_times_1,history_1.history['val_acc'], label='Test accuracy on Rapid_Net')\n",
    "plt.plot(cum_times_2,history_2.history['val_acc'], label='Test accuracy on LeNet')\n",
    "plt.legend()\n",
    "plt.xlabel('Time in seconds')\n",
    "plt.ylabel('Accuracy')\n",
    "plt.ylim([0.88,1])\n",
    "\n",
    "plt.subplot(3, 3, 3)\n",
    "plt.plot(cum_times_1,history_1.history['loss'], label='Train Loss on Rapid_Net')\n",
    "plt.plot(cum_times_2,history_2.history['loss'], label='Train Loss on LeNet')\n",
    "plt.legend()\n",
    "plt.xlabel('Time in seconds')\n",
    "plt.ylabel('Loss')\n",
    "\n",
    "fig.tight_layout()\n",
    "fig.subplots_adjust(top=0.95)\n",
    "#plt.ylim([0.88,1])\n",
    "\n",
    "#plt.figure()\n",
    "#plt.plot(cum_times_1,history_1.history['val_loss'])\n",
    "#plt.plot(cum_times_2,history_2.history['val_loss'])\n",
    "#plt.ylim([0,0.2])"
   ]
  },
  {
   "cell_type": "code",
   "execution_count": null,
   "metadata": {},
   "outputs": [],
   "source": []
  }
 ],
 "metadata": {
  "kernelspec": {
   "display_name": "Python 3",
   "language": "python",
   "name": "python3"
  },
  "language_info": {
   "codemirror_mode": {
    "name": "ipython",
    "version": 3
   },
   "file_extension": ".py",
   "mimetype": "text/x-python",
   "name": "python",
   "nbconvert_exporter": "python",
   "pygments_lexer": "ipython3",
   "version": "3.6.5"
  }
 },
 "nbformat": 4,
 "nbformat_minor": 1
}
